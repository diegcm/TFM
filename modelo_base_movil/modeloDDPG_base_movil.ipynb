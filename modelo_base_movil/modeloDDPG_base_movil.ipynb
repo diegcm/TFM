{
 "cells": [
  {
   "cell_type": "code",
   "execution_count": null,
   "id": "72f41695-c491-4159-9428-59c64843fb21",
   "metadata": {},
   "outputs": [],
   "source": [
    "import numpy as np\n",
    "import pandas as pd\n",
    "import sympy as sym\n",
    "import pybullet as p\n",
    "import gym\n",
    "import os\n",
    "import random\n",
    "import time\n",
    "import pickle as plk\n",
    "from robot_env_base_movil import robot_env\n",
    "import matplotlib.pyplot as plt\n",
    "import tensorflow as tf\n",
    "\n",
    "from collections import deque\n",
    "import pickle as plk\n",
    "\n",
    "from tensorflow.keras.models import Sequential, Model\n",
    "from tensorflow.keras.layers import Dense, Activation, Flatten, Input, Concatenate, Lambda\n",
    "from tensorflow.keras.optimizers import Adam\n",
    "from tensorflow.keras.callbacks import Callback, History\n",
    "from MemorySaverCallback import MemorySaverCallback\n",
    "from HistorySaverCallback import HistorySaverCallback\n",
    "\n",
    "from rl.agents import DDPGAgent_mod\n",
    "from rl.memory_mod import SequentialMemory\n",
    "from rl.random import OrnsteinUhlenbeckProcess\n",
    "from rl.callbacks import FileLogger, ModelIntervalCheckpoint"
   ]
  },
  {
   "cell_type": "markdown",
   "id": "ed629b4f-74dc-447b-a224-65a25896a7b1",
   "metadata": {},
   "source": [
    "Algoritmo DDPG"
   ]
  },
  {
   "cell_type": "markdown",
   "id": "2d873d5c",
   "metadata": {},
   "source": [
    "Entorno"
   ]
  },
  {
   "cell_type": "code",
   "execution_count": 2,
   "id": "dae25758-e636-4f5f-87cc-3eeab89e4f03",
   "metadata": {},
   "outputs": [],
   "source": [
    "memory = SequentialMemory(limit=100000, initial_dict = None, window_length=1)"
   ]
  },
  {
   "cell_type": "code",
   "execution_count": null,
   "id": "8a004f12-f921-4673-a319-0226cbee02ed",
   "metadata": {},
   "outputs": [],
   "source": [
    "#Registro del entorno\n",
    "gym.envs.registration.register(\n",
    "    id='RobotEnv-v0',  # Identificador único del entorno\n",
    "    entry_point='robot_env_base_movil:robot_env',  # Módulo y clase del entorno\n",
    "    max_episode_steps=250,  # Número máximo de pasos por episodio\n",
    ")\n",
    "\n",
    "# Crear el entorno\n",
    "env = gym.make('RobotEnv-v0')\n"
   ]
  },
  {
   "cell_type": "markdown",
   "id": "61faa36e",
   "metadata": {},
   "source": [
    "Agente"
   ]
  },
  {
   "cell_type": "code",
   "execution_count": null,
   "id": "6e9063c7-1696-480a-a396-13b252698f84",
   "metadata": {},
   "outputs": [],
   "source": [
    "#Número de acciones\n",
    "nb_actions=6"
   ]
  },
  {
   "cell_type": "code",
   "execution_count": null,
   "id": "14b37640-e754-470f-842c-145394bdf9b0",
   "metadata": {},
   "outputs": [
    {
     "name": "stdout",
     "output_type": "stream",
     "text": [
      "Model: \"sequential\"\n",
      "_________________________________________________________________\n",
      " Layer (type)                Output Shape              Param #   \n",
      "=================================================================\n",
      " dense (Dense)               (None, 512)               2048      \n",
      "                                                                 \n",
      " dense_1 (Dense)             (None, 256)               131328    \n",
      "                                                                 \n",
      " dense_2 (Dense)             (None, 64)                16448     \n",
      "                                                                 \n",
      " dense_3 (Dense)             (None, 6)                 390       \n",
      "                                                                 \n",
      "=================================================================\n",
      "Total params: 150,214\n",
      "Trainable params: 150,214\n",
      "Non-trainable params: 0\n",
      "_________________________________________________________________\n",
      "None\n"
     ]
    }
   ],
   "source": [
    "#Dimensiones del vector de estado: (3,)\n",
    "actor_model=Sequential()\n",
    "\n",
    "actor_model.add(Input(shape=(3,)))  # Vector de estado de dimensión (3,)\n",
    "actor_model.add(Dense(512, activation='relu'))\n",
    "actor_model.add(Dense(256, activation='relu'))\n",
    "actor_model.add(Dense(64, activation='relu'))\n",
    "actor_model.add(Dense(nb_actions, activation='tanh')) #Capa de salida\n",
    "print(actor_model.summary())"
   ]
  },
  {
   "cell_type": "markdown",
   "id": "5c75dbf3-5b36-4cb0-ad0c-36922f8e343a",
   "metadata": {},
   "source": [
    "Critic"
   ]
  },
  {
   "cell_type": "markdown",
   "id": "fa80470a-c1f1-4c88-82de-b6d9c7bc106e",
   "metadata": {},
   "source": [
    "Implementación de la solución DDPG:"
   ]
  },
  {
   "cell_type": "code",
   "execution_count": 8,
   "id": "65b130a7-b0f1-4665-902b-43764b7bc21d",
   "metadata": {},
   "outputs": [
    {
     "name": "stdout",
     "output_type": "stream",
     "text": [
      "(None, 9)\n",
      "Model: \"model\"\n",
      "__________________________________________________________________________________________________\n",
      " Layer (type)                   Output Shape         Param #     Connected to                     \n",
      "==================================================================================================\n",
      " action_input (InputLayer)      [(None, 6)]          0           []                               \n",
      "                                                                                                  \n",
      " obs_input (InputLayer)         [(None, 3)]          0           []                               \n",
      "                                                                                                  \n",
      " concatenate (Concatenate)      (None, 9)            0           ['action_input[0][0]',           \n",
      "                                                                  'obs_input[0][0]']              \n",
      "                                                                                                  \n",
      " dense_4 (Dense)                (None, 9)            90          ['concatenate[0][0]']            \n",
      "                                                                                                  \n",
      " dense_5 (Dense)                (None, 512)          5120        ['dense_4[0][0]']                \n",
      "                                                                                                  \n",
      " dense_6 (Dense)                (None, 256)          131328      ['dense_5[0][0]']                \n",
      "                                                                                                  \n",
      " dense_7 (Dense)                (None, 64)           16448       ['dense_6[0][0]']                \n",
      "                                                                                                  \n",
      " dense_8 (Dense)                (None, 1)            65          ['dense_7[0][0]']                \n",
      "                                                                                                  \n",
      "==================================================================================================\n",
      "Total params: 153,051\n",
      "Trainable params: 153,051\n",
      "Non-trainable params: 0\n",
      "__________________________________________________________________________________________________\n",
      "None\n"
     ]
    }
   ],
   "source": [
    "#Recibe como entrada el vector de estado y el vector de acciones\n",
    "\n",
    "action_input=Input(shape=(nb_actions,), name='action_input')\n",
    "obs_input=Input(shape=(3,), name='obs_input')\n",
    "\n",
    "x=Concatenate()([action_input, obs_input])\n",
    "print(x.shape)\n",
    "\n",
    "x=Dense(9, input_shape=(9,), activation='relu')(x) #Capa de entrada\n",
    "x=Dense(512, activation='relu')(x)\n",
    "x=Dense(256, activation='relu')(x)\n",
    "x=Dense(64, activation='relu')(x)\n",
    "output=Dense(1, activation='linear')(x) #Capa de salida\n",
    "\n",
    "critic_model = Model(inputs=[action_input, obs_input], outputs=output)\n",
    "\n",
    "print(critic_model.summary())"
   ]
  },
  {
   "cell_type": "code",
   "execution_count": null,
   "id": "b85ab5ff-d6bc-450b-91d0-36c5b4fd7066",
   "metadata": {},
   "outputs": [],
   "source": [
    "#Proceso aleatorio\n",
    "random_process=OrnsteinUhlenbeckProcess(size=nb_actions, theta=0.3, mu=0., sigma=env.sigma) #Antes: theta=0.15, sigma=0.2"
   ]
  },
  {
   "cell_type": "code",
   "execution_count": null,
   "id": "6d905e64-51b0-4d3a-9ea0-a795fe43bef8",
   "metadata": {},
   "outputs": [],
   "source": [
    "#Instancia agente\n",
    "ddpg=DDPGAgent_her(nb_actions=nb_actions, actor=actor_model, critic=critic_model, critic_action_input=action_input,\n",
    "               memory=memory, gamma=0.99, batch_size=128, nb_steps_warmup_critic=130,\n",
    "               nb_steps_warmup_actor=130, train_interval=1, memory_interval=1,\n",
    "               delta_range=None, random_process=random_process,\n",
    "               target_model_update=0.001)\n",
    "\n",
    "ddpg.compile(Adam(learning_rate=.001), metrics=['mae'])"
   ]
  },
  {
   "cell_type": "code",
   "execution_count": null,
   "id": "7f7d4aa8-0af3-4da6-bca7-30c5b4aebb4e",
   "metadata": {
    "scrolled": true,
    "tags": []
   },
   "outputs": [],
   "source": [
    "#Callbacks\n",
    "\n",
    "weights_filename = 'ddpg_{}_weights.h5f'.format('RobotEnv-v0')\n",
    "checkpoint_weights_filename = '.\\checkpoint_weights_1\\ddpg_RobotEnv-v0_weights_{step}.h5f'\n",
    "log_filename = 'ddpg_{}_log_primera_parte.json'.format('RobotEnv-v0')\n",
    "history=History()\n",
    "memory_saver = MemorySaverCallback(memory=memory, save_dir =\".\\MemorySavings\", save_interval=5000, initial_steps = 0)\n",
    "history_saver = HistorySaverCallback(history=history, save_dir=\".\\historial_1\", save_interval=10000, initial_steps = 0)\n",
    "callbacks = [ModelIntervalCheckpoint(checkpoint_weights_filename, interval=5000)]\n",
    "callbacks += [FileLogger(log_filename, interval=100)]\n",
    "callbacks += [history]\n",
    "callbacks += [memory_saver]\n",
    "callbacks += [history_saver]\n",
    "\n",
    "\n",
    "ddpg.fit(env=env, callbacks=callbacks, nb_steps=1000000, visualize=False, verbose=1, nb_max_episode_steps=250)"
   ]
  },
  {
   "cell_type": "markdown",
   "id": "a4cba862-5c7e-49d6-afbc-c0ed94e2ef96",
   "metadata": {},
   "source": [
    "## Testing"
   ]
  },
  {
   "cell_type": "code",
   "execution_count": null,
   "id": "b7b41674-88d6-4691-9e34-598696f45a8e",
   "metadata": {},
   "outputs": [],
   "source": [
    "weights_filename = \"./checkpoint_weights_1/ddpg_RobotEnv-v0_weights_70000.h5f\"\n",
    "ddpg.load_weights(weights_filename)"
   ]
  },
  {
   "cell_type": "code",
   "execution_count": null,
   "id": "72d16a49-a8f0-4cc0-a304-7a133e50d4eb",
   "metadata": {},
   "outputs": [],
   "source": [
    "# Configurar el agente para el modo de prueba\n",
    "ddpg.training = False  # Desactivar el entrenamiento\n",
    "ddpg.test(env, nb_episodes=5, visualize=False)"
   ]
  },
  {
   "cell_type": "code",
   "execution_count": null,
   "id": "d6d5c1db-a18f-446c-8650-38e4ad55a263",
   "metadata": {},
   "outputs": [],
   "source": [
    "env.close()"
   ]
  }
 ],
 "metadata": {
  "kernelspec": {
   "display_name": "Python 3 (ipykernel)",
   "language": "python",
   "name": "python3"
  },
  "language_info": {
   "codemirror_mode": {
    "name": "ipython",
    "version": 3
   },
   "file_extension": ".py",
   "mimetype": "text/x-python",
   "name": "python",
   "nbconvert_exporter": "python",
   "pygments_lexer": "ipython3",
   "version": "3.10.9"
  }
 },
 "nbformat": 4,
 "nbformat_minor": 5
}
